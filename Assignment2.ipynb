{
 "cells": [
  {
   "cell_type": "code",
   "execution_count": 0,
   "metadata": {
    "application/vnd.databricks.v1+cell": {
     "cellMetadata": {
      "byteLimit": 2048000,
      "rowLimit": 10000
     },
     "inputWidgets": {},
     "nuid": "0502d00b-4af2-43ae-9060-ee0ee213dd6b",
     "showTitle": false,
     "tableResultSettingsMap": {},
     "title": ""
    }
   },
   "outputs": [],
   "source": [
    "#Problem 7\n",
    "books = ['Harry Potter', '1984', 'The Fault in Our Stars', 'The Mom Test',  'Life in Code' ]\n",
    "books.append('Pachinko')\n",
    "books.remove('The Fault in Our Stars')\n",
    "books.pop(1)\n",
    "print(books)\n"
   ]
  },
  {
   "cell_type": "code",
   "execution_count": 0,
   "metadata": {
    "application/vnd.databricks.v1+cell": {
     "cellMetadata": {
      "byteLimit": 2048000,
      "rowLimit": 10000
     },
     "inputWidgets": {},
     "nuid": "0b7d8afb-222a-4fe0-b714-edb7e6cff22c",
     "showTitle": false,
     "tableResultSettingsMap": {},
     "title": ""
    }
   },
   "outputs": [],
   "source": [
    "#Problem8\n",
    "dna_sequence = ['GCT', 'AGC', 'AGG', 'TAA', 'ACT', 'CAT', 'TAT', 'CCC', 'ACG', 'GAA', 'ACC', 'GGA']\n",
    "item_to_find =str(input(\"enter the threer-letter combination of your choice\"))\n",
    "item_found = False\n",
    "for i in dna_sequence:\n",
    "    if i == item_found:\n",
    "     item_found = True\n",
    "if item_found == True:\n",
    "    print(\"Item Found!\")    \n",
    "else:\n",
    "    print(\"Item not found\")  \n",
    "\n",
    "\n",
    "\n"
   ]
  },
  {
   "cell_type": "code",
   "execution_count": 0,
   "metadata": {
    "application/vnd.databricks.v1+cell": {
     "cellMetadata": {
      "byteLimit": 2048000,
      "rowLimit": 10000
     },
     "inputWidgets": {},
     "nuid": "dc14b263-8085-475b-8704-e4a2d4b771c2",
     "showTitle": false,
     "tableResultSettingsMap": {},
     "title": ""
    }
   },
   "outputs": [],
   "source": [
    "#PROBLEM9\n",
    "import random \n",
    "def fortune():\n",
    "    number = random.randint(1,7)\n",
    "    if number == 1:\n",
    "        print(\"Don't pursue happiness – create it\")\n",
    "    elif number == 2:\n",
    "        print(\" All things are difficult before they are easy\")\n",
    "    elif number == 3:\n",
    "        print(\"The early bird gets the worm, but the second mouse gets the cheese\")\n",
    "    elif number == 4:\n",
    "        print(\"Someone in your life needs a letter from you\")\n",
    "    elif number == 5:\n",
    "        print(\"Don't just think. Act! Your heart will skip a beat\")\n",
    "    elif number == 6:\n",
    "        print(\"The fortune you search for is in another cookie\")    \n",
    "    elif number == 7:\n",
    "        print(\"Help! I'm being held prisoner in a Chinese bakery! \")    \n",
    "    \n",
    "\n",
    "fortune() \n",
    "fortune() \n",
    "fortune() \n",
    "fortune()   \n",
    "\n",
    "    "
   ]
  },
  {
   "cell_type": "code",
   "execution_count": 0,
   "metadata": {
    "application/vnd.databricks.v1+cell": {
     "cellMetadata": {
      "byteLimit": 2048000,
      "rowLimit": 10000
     },
     "inputWidgets": {},
     "nuid": "68d0b1a0-59ba-4539-b7c2-74ecc44e48a3",
     "showTitle": false,
     "tableResultSettingsMap": {},
     "title": ""
    }
   },
   "outputs": [],
   "source": [
    "#Problem10\n",
    "miles = 0\n",
    "def distance():\n",
    "    kilometer = float(input(\"enter the kilometers\"))\n",
    "    miles = kilometer/1.609\n",
    "    print(\"distance in miles is\", miles)\n",
    "\n",
    "distance()\n",
    "\n",
    " \n"
   ]
  },
  {
   "cell_type": "code",
   "execution_count": 0,
   "metadata": {
    "application/vnd.databricks.v1+cell": {
     "cellMetadata": {
      "byteLimit": 2048000,
      "rowLimit": 10000
     },
     "inputWidgets": {},
     "nuid": "3e7c49a0-3aee-4758-bd53-04254f23d29d",
     "showTitle": false,
     "tableResultSettingsMap": {},
     "title": ""
    }
   },
   "outputs": [],
   "source": [
    "#Problrem11\n",
    "def Add(a,b):\n",
    "    sum = a + b\n",
    "    print(\"total is :\", sum)\n",
    "def subtract(a,b):\n",
    "    sub = a - b\n",
    "    print(\"diffrence is :\", sub)\n",
    "def multiply(a,b):\n",
    "    mul = a * b\n",
    "    print(\"product is :\", mul)\n",
    "def divide(a,b):\n",
    "    div = a / b\n",
    "    print(\"quotient is :\", div)\n",
    "def exponent(a,b):\n",
    "    exp = a ** b\n",
    "    print(\"exponent is :\", exp)\n",
    "\n",
    "num1=int(input(\"enter the first number\"))\n",
    "num2=int(input(\"enter the second number\"))\n",
    "choice=int(input(\"which action do you want to perform : \\n 1.addition 2.subtraction  3.multiplication 4.division 5.exponent \"))\n",
    "if choice == 1:\n",
    "    Add(num1,num2)    \n",
    "elif choice == 2:\n",
    "    subtract(num1,num2)\n",
    "elif choice == 3:\n",
    "    multiply(num1,num2)\n",
    "elif choice == 4:\n",
    "    divide(num1,num2)\n",
    "elif choice == 5:\n",
    "    exponent(num1,num2)\n",
    "else:\n",
    "    print(\"invalid choice\")          \n"
   ]
  },
  {
   "cell_type": "code",
   "execution_count": 0,
   "metadata": {
    "application/vnd.databricks.v1+cell": {
     "cellMetadata": {
      "byteLimit": 2048000,
      "rowLimit": 10000
     },
     "inputWidgets": {},
     "nuid": "4e53e68d-1f2d-4dce-8b85-037699122a82",
     "showTitle": false,
     "tableResultSettingsMap": {},
     "title": ""
    }
   },
   "outputs": [],
   "source": [
    "#Problem 12\n",
    "stock_prices = [34.68, 36.09, 34.94, 33.97, 34.68, 35.82, 43.41, 44.29, 44.65, 53.56, 49.85, 48.71, 48.71, 49.94, 48.53, 47.03, 46.59, 48.62, 44.21, 47.21]\n",
    "def price_at(x):\n",
    "    if x >=1 and x <=len(stock_prices):\n",
    "        print(stock_prices[x-1])\n",
    "        return (stock_prices[x-1])\n",
    "    else:\n",
    "        print(\"invalid input\")\n",
    "def max_price(a,b):\n",
    "    return max(stock_prices[a-1:b])         \n",
    "def min_price(a,b):\n",
    "    return min(stock_prices[a-1:b])         \n",
    "\n",
    "print(price_at(19))\n",
    "print(max_price(1,30))\n",
    "print(min_price(1,30))\n"
   ]
  },
  {
   "cell_type": "code",
   "execution_count": 0,
   "metadata": {
    "application/vnd.databricks.v1+cell": {
     "cellMetadata": {
      "byteLimit": 2048000,
      "rowLimit": 10000
     },
     "inputWidgets": {},
     "nuid": "2c455571-7ae5-423f-82be-b790bb44efa0",
     "showTitle": false,
     "tableResultSettingsMap": {},
     "title": ""
    }
   },
   "outputs": [],
   "source": [
    "#Problem 13\n",
    "def get_item(num):\n",
    "    if num == 1:\n",
    "        return \"Cheeseburger\"\n",
    "    elif num == 2:\n",
    "        return \"Fries'\"\n",
    "    elif num == 3:\n",
    "        return \"Soda\"\n",
    "    elif num == 4:\n",
    "        return \"Ice Cream\"\n",
    "    elif num == 5:\n",
    "        return \"Cookie\"\n",
    "    else:\n",
    "        return \"Invalid item\"\n",
    "\n",
    "def welcome():\n",
    "    print(\"Welcome to the Restaurant!\")\n",
    "    print(\"Please select an item:\")\n",
    "    print(\"1. Cheeseburger\")\n",
    "    print(\"2. Fries\")\n",
    "    print(\"3. Soda\")\n",
    "    print(\"4. Ice Cream\")\n",
    "    print(\"5. Cookie\")\n",
    "  \n",
    "welcome()\n",
    "num = int(input(\"Enter your choice: \"))\n",
    "print(\"you ordered:\", get_item(num))\n",
    "  \n"
   ]
  },
  {
   "cell_type": "code",
   "execution_count": 0,
   "metadata": {
    "application/vnd.databricks.v1+cell": {
     "cellMetadata": {
      "byteLimit": 2048000,
      "rowLimit": 10000
     },
     "inputWidgets": {},
     "nuid": "a8e28125-663d-48f3-b0b9-b2503a4fd68c",
     "showTitle": false,
     "tableResultSettingsMap": {},
     "title": ""
    }
   },
   "outputs": [],
   "source": [
    "#Problem 1 NUMPY\n",
    "import numpy as np\n",
    "var = np.array([1, 2, 3, 5, 0])\n",
    "print(var)\n",
    "print(np.all(var != 0))\n"
   ]
  },
  {
   "cell_type": "code",
   "execution_count": 0,
   "metadata": {
    "application/vnd.databricks.v1+cell": {
     "cellMetadata": {
      "byteLimit": 2048000,
      "rowLimit": 10000
     },
     "inputWidgets": {},
     "nuid": "efa444b4-8bbc-453d-961f-36707eccaa65",
     "showTitle": false,
     "tableResultSettingsMap": {},
     "title": ""
    }
   },
   "outputs": [],
   "source": [
    "import numpy as np\n",
    "\n",
    "var = np.array([0, 0, 0, 0])\n",
    "print(var)\n",
    "print(np.any(var != 0))"
   ]
  },
  {
   "cell_type": "code",
   "execution_count": 0,
   "metadata": {
    "application/vnd.databricks.v1+cell": {
     "cellMetadata": {
      "byteLimit": 2048000,
      "rowLimit": 10000
     },
     "inputWidgets": {},
     "nuid": "323c1211-0e77-43ae-b73e-b3b0cbdf863d",
     "showTitle": false,
     "tableResultSettingsMap": {},
     "title": ""
    }
   },
   "outputs": [],
   "source": [
    "import numpy as np\n",
    "\n",
    "var = np.array([56, -2, 7])\n",
    "print(var)\n",
    "print(var.nbytes) "
   ]
  },
  {
   "cell_type": "code",
   "execution_count": 0,
   "metadata": {
    "application/vnd.databricks.v1+cell": {
     "cellMetadata": {},
     "inputWidgets": {},
     "nuid": "e9823a75-31b5-46fb-80ea-d7984551b152",
     "showTitle": false,
     "tableResultSettingsMap": {},
     "title": ""
    }
   },
   "outputs": [],
   "source": [
    "import numpy as np\n",
    "\n",
    "var = np.zeros(10)\n",
    "print(var)    "
   ]
  },
  {
   "cell_type": "code",
   "execution_count": 0,
   "metadata": {
    "application/vnd.databricks.v1+cell": {
     "cellMetadata": {
      "byteLimit": 2048000,
      "rowLimit": 10000
     },
     "inputWidgets": {},
     "nuid": "2b0da2c0-aa2a-4c67-85e9-644cc67b2316",
     "showTitle": false,
     "tableResultSettingsMap": {},
     "title": ""
    }
   },
   "outputs": [],
   "source": [
    "import numpy as np\n",
    "\n",
    "var = np.ones(6)  \n",
    "print(var)"
   ]
  },
  {
   "cell_type": "code",
   "execution_count": 0,
   "metadata": {
    "application/vnd.databricks.v1+cell": {
     "cellMetadata": {
      "byteLimit": 2048000,
      "rowLimit": 10000
     },
     "inputWidgets": {},
     "nuid": "5c96cb3d-88a9-4e5a-b3d0-52a33987f26c",
     "showTitle": false,
     "tableResultSettingsMap": {},
     "title": ""
    }
   },
   "outputs": [],
   "source": [
    "import numpy as np\n",
    "\n",
    "var = np.full(12, 3)\n",
    "print(var)"
   ]
  },
  {
   "cell_type": "code",
   "execution_count": 0,
   "metadata": {
    "application/vnd.databricks.v1+cell": {
     "cellMetadata": {
      "byteLimit": 2048000,
      "rowLimit": 10000
     },
     "inputWidgets": {},
     "nuid": "6118434a-35f5-4afd-9968-e81efeb4f2f7",
     "showTitle": false,
     "tableResultSettingsMap": {},
     "title": ""
    }
   },
   "outputs": [],
   "source": [
    "import numpy as np\n",
    "\n",
    "var = np.arange(8, 21)\n",
    "print(var) "
   ]
  },
  {
   "cell_type": "code",
   "execution_count": 0,
   "metadata": {
    "application/vnd.databricks.v1+cell": {
     "cellMetadata": {
      "byteLimit": 2048000,
      "rowLimit": 10000
     },
     "inputWidgets": {},
     "nuid": "c28a5ef9-10e5-4323-87fe-6ce6c97c6b79",
     "showTitle": false,
     "tableResultSettingsMap": {},
     "title": ""
    }
   },
   "outputs": [],
   "source": [
    "# Problem 2\n",
    "egg_carton1 = np.array([\n",
    "  [0.89, 0.90, 0.83, 0.89, 0.97, 0.98], \n",
    "  [0.95, 0.95, 0.89, 0.95, 0.23, 0.99]\n",
    "])\n",
    "\n",
    "egg_carton2 = np.array([\n",
    "  [0.89, 0.95, 0.84, 0.92, 0.94, 0.93], \n",
    "  [0.93, 0.95, 0.02, 0.03, 0.23, 0.99]\n",
    "])\n",
    "\n",
    "egg_carton3 = np.array([\n",
    "  [0.83, 0.95, 0.89, 0.54, 0.37, 0.92], \n",
    "  [0.98, 0.99, 0.19, 0.23, 0.89, 0.91]\n",
    "])\n",
    "\n",
    "avg1 = np.average(egg_carton1)\n",
    "avg2 = np.average(egg_carton2)\n",
    "avg3 = np.average(egg_carton3)\n",
    "\n",
    "good = max(avg1, avg2, avg3)\n",
    "bad = min(avg1, avg2, avg3)\n",
    "\n",
    "print(\" Average of Good Eggs :\", good)\n",
    "print(\" Average of Bad Eggs :\", bad)\n",
    "     "
   ]
  },
  {
   "cell_type": "code",
   "execution_count": 0,
   "metadata": {
    "application/vnd.databricks.v1+cell": {
     "cellMetadata": {
      "byteLimit": 2048000,
      "rowLimit": 10000
     },
     "inputWidgets": {},
     "nuid": "b1215862-16e7-4f7b-8e6c-5b28e3c8440b",
     "showTitle": false,
     "tableResultSettingsMap": {},
     "title": ""
    }
   },
   "outputs": [],
   "source": [
    "#Problem 3\n",
    "\n",
    "import numpy as np\n",
    "years = np.arange(1986,3001,75)\n",
    "print(\"Halley's Comet will appear next from year 1986 :\", years)\n",
    "\n"
   ]
  },
  {
   "cell_type": "code",
   "execution_count": 0,
   "metadata": {
    "application/vnd.databricks.v1+cell": {
     "cellMetadata": {},
     "inputWidgets": {},
     "nuid": "21a6ba8b-c485-403c-9062-6d5ae84db326",
     "showTitle": false,
     "tableResultSettingsMap": {},
     "title": ""
    }
   },
   "outputs": [],
   "source": []
  }
 ],
 "metadata": {
  "application/vnd.databricks.v1+notebook": {
   "computePreferences": null,
   "dashboards": [],
   "environmentMetadata": {
    "base_environment": "",
    "environment_version": "4"
   },
   "inputWidgetPreferences": null,
   "language": "python",
   "notebookMetadata": {
    "pythonIndentUnit": 4
   },
   "notebookName": "Assignment2",
   "widgets": {}
  },
  "language_info": {
   "name": "python"
  }
 },
 "nbformat": 4,
 "nbformat_minor": 0
}
