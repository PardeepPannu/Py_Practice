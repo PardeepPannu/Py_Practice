{
 "cells": [
  {
   "cell_type": "code",
   "execution_count": 0,
   "metadata": {
    "application/vnd.databricks.v1+cell": {
     "cellMetadata": {
      "byteLimit": 2048000,
      "rowLimit": 10000
     },
     "inputWidgets": {},
     "nuid": "6476a6a1-83c8-488d-8cc6-a1018e311acd",
     "showTitle": false,
     "tableResultSettingsMap": {},
     "title": ""
    }
   },
   "outputs": [],
   "source": [
    "#Problem 1\n",
    "\n",
    "ph_levels = float(input(\"emter the value of ph levels between 0 to 14\"))\n",
    "if ph_levels < 0 or ph_levels > 14:\n",
    "    print(\"enter valid ph levels\")\n",
    "elif ph_levels > 7:\n",
    "  print(\"Basic\")\n",
    "elif ph_levels < 7:\n",
    "  print(\"Acidic\")\n",
    "else:\n",
    "  print('Neutral')\n"
   ]
  },
  {
   "cell_type": "markdown",
   "metadata": {
    "application/vnd.databricks.v1+cell": {
     "cellMetadata": {},
     "inputWidgets": {},
     "nuid": "7ad34f4e-10b3-4c4b-96da-a015fdb7440c",
     "showTitle": false,
     "tableResultSettingsMap": {},
     "title": ""
    }
   },
   "source": []
  }
 ],
 "metadata": {
  "application/vnd.databricks.v1+notebook": {
   "computePreferences": null,
   "dashboards": [],
   "environmentMetadata": {
    "base_environment": "",
    "environment_version": "3"
   },
   "inputWidgetPreferences": null,
   "language": "python",
   "notebookMetadata": {
    "pythonIndentUnit": 4
   },
   "notebookName": "Untitled Notebook 2025-10-08 21:01:17",
   "widgets": {}
  },
  "language_info": {
   "name": "python"
  }
 },
 "nbformat": 4,
 "nbformat_minor": 0
}
