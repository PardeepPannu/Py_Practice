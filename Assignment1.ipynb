{
 "cells": [
  {
   "cell_type": "code",
   "execution_count": 0,
   "metadata": {
    "application/vnd.databricks.v1+cell": {
     "cellMetadata": {
      "byteLimit": 2048000,
      "rowLimit": 10000
     },
     "inputWidgets": {},
     "nuid": "6476a6a1-83c8-488d-8cc6-a1018e311acd",
     "showTitle": false,
     "tableResultSettingsMap": {},
     "title": ""
    }
   },
   "outputs": [],
   "source": [
    "#Problem 1\n",
    "\n",
    "ph_levels = float(input(\"emter the value of ph levels between 0 to 14\"))\n",
    "if ph_levels < 0 or ph_levels > 14:\n",
    "    print(\"enter valid ph levels\")\n",
    "elif ph_levels > 7:\n",
    "  print(\"Basic\")\n",
    "elif ph_levels < 7:\n",
    "  print(\"Acidic\")\n",
    "else:\n",
    "  print('Neutral')\n"
   ]
  },
  {
   "cell_type": "code",
   "execution_count": 0,
   "metadata": {
    "application/vnd.databricks.v1+cell": {
     "cellMetadata": {
      "byteLimit": 2048000,
      "rowLimit": 10000
     },
     "inputWidgets": {},
     "nuid": "7f05200e-93e5-47b5-a53c-1379cbfc2f50",
     "showTitle": false,
     "tableResultSettingsMap": {},
     "title": ""
    }
   },
   "outputs": [],
   "source": [
    "#Problem 2\n",
    "#The Magic 8 Ball is a popular office toy and children's toy invented in the 1940s for fortune-telling and advice seeking. 🎱\n",
    "\n",
    "import random\n",
    "\n",
    "question = input(\"What is your question?\")\n",
    "number = random.randint(1, 9)\n",
    "if number == 1:\n",
    "  print(\"Yes - definitely.\")    \n",
    "elif number == 2:\n",
    "  print(\"It is decidedly so.\")            \n",
    "elif number == 3:\n",
    "  print(\"Without a doubt.\")           \n",
    "elif number == 4:\n",
    "  print(\"Reply hazy, try again.\")           \n",
    "elif number == 5:\n",
    "  print(\"Ask again later.\")           \n",
    "elif number == 6:\n",
    "  print(\"Better not tell you now.\")           \n",
    "elif number == 7:\n",
    "  print(\"My sources say no.\")           \n",
    "elif number == 8:\n",
    "  print(\"Outlook not so good.\")           \n",
    "else:\n",
    "  print(\"Very doubtful.\")   \n",
    "\n"
   ]
  },
  {
   "cell_type": "code",
   "execution_count": 0,
   "metadata": {
    "application/vnd.databricks.v1+cell": {
     "cellMetadata": {
      "byteLimit": 2048000,
      "rowLimit": 10000
     },
     "inputWidgets": {},
     "nuid": "da5c81fc-f191-409c-b97d-716d866fa175",
     "showTitle": false,
     "tableResultSettingsMap": {},
     "title": ""
    }
   },
   "outputs": [],
   "source": [
    "#Since 1927, \"The Cyclone\" roller coaster has delighted visitors at Coney Island (Brooklyn, NY). 🎢 They're now installing a new entry system (the height requirement is 137 cm and the cost is 10 credits) and need your help writing the program for it!\n",
    "\n",
    "height = float(input(\"What is your height in cm?\"))\n",
    "credits = float(input(\"How many credits do you have?\"))\n",
    "if height >= 137 and credits >= 10:\n",
    "  print(\"Enjoy the ride!\")\n",
    "else:\n",
    "  print(\"Sorry, you may not ride.\") \n"
   ]
  },
  {
   "cell_type": "code",
   "execution_count": 0,
   "metadata": {
    "application/vnd.databricks.v1+cell": {
     "cellMetadata": {
      "byteLimit": 2048000,
      "rowLimit": 10000
     },
     "inputWidgets": {},
     "nuid": "c6cdb62f-0ed5-4b71-aaf8-0fb0e1f4f9d4",
     "showTitle": false,
     "tableResultSettingsMap": {},
     "title": ""
    }
   },
   "outputs": [],
   "source": [
    "#The Sorting Hat is a magical talking hat at Hogwarts School of Witchcraft and Wizardry. The hat decides which of the four \"Houses\" each first-year student goes to:\n",
    "\n",
    "Gryffindor = 0\n",
    "Ravenclaw = 0\n",
    "Hufflepuff = 0\n",
    "Slytherin = 0\n",
    "first_choice = int(input(\"Do you like Dawn or  Dusk? enter 1 for dawn or 2 for dusk\"))\n",
    "if first_choice == 1:\n",
    "    Gryffindor += 1\n",
    "    Ravenclaw += 1\n",
    "elif first_choice == 2:\n",
    "    Hufflepuff += 1\n",
    "    Slytherin += 1\n",
    "else:\n",
    "    print(\"Invalid choice\")\n",
    "second_choice = int(input(\" When I’m dead, I want people to remember me as 1=The Good 2=The Great 3=The Wise 4=The Bold\"))\n",
    "if second_choice == 1:\n",
    "    Hufflepuff += 2\n",
    "elif second_choice == 2:\n",
    "    Slytherin += 2\n",
    "elif second_choice == 3:\n",
    "    Ravenclaw += 2\n",
    "elif second_choice == 4:\n",
    "    Gryffindor += 2\n",
    "else:\n",
    "    print(\"Invalid choice\")\n",
    "third_choice = int(input(\"Which kind of instrument most pleases your ear? 1=The violin 2=The trumpet 3=The piano 4=The drum\"))\n",
    "if third_choice == 1:\n",
    "    Slytherin += 4\n",
    "elif third_choice == 2:\n",
    "    Hufflepuff += 4\n",
    "elif third_choice == 3:\n",
    "    Ravenclaw += 4\n",
    "elif third_choice == 4:\n",
    "    Gryffindor += 4\n",
    "else:   \n",
    "    print(\"Invalid choice\")\n",
    "\n",
    "\n",
    "print(f\"Gryffindor: {Gryffindor}\")\n",
    "print(f\"Ravenclaw: {Ravenclaw}\")\n",
    "print(f\"Hufflepuff: {Hufflepuff}\")\n",
    "print(f\"Slytherin: {Slytherin}\")\n",
    "\n"
   ]
  },
  {
   "cell_type": "code",
   "execution_count": 0,
   "metadata": {
    "application/vnd.databricks.v1+cell": {
     "cellMetadata": {
      "byteLimit": 2048000,
      "rowLimit": 10000
     },
     "inputWidgets": {},
     "nuid": "797a5038-83a1-4695-8154-498b1d91ed11",
     "showTitle": false,
     "tableResultSettingsMap": {},
     "title": ""
    }
   },
   "outputs": [],
   "source": [
    "#problem 5\n",
    "for number in range(1, 101):\n",
    "    if number % 3 == 0 and number % 5 == 0:\n",
    "        print(\"FizzBuzz\")\n",
    "    elif number % 3 == 0:\n",
    "        print(\"Fizz\")\n",
    "    elif number % 5 == 0:\n",
    "        print(\"Buzz\")\n",
    "    else:\n",
    "        print(number)"
   ]
  },
  {
   "cell_type": "code",
   "execution_count": 0,
   "metadata": {
    "application/vnd.databricks.v1+cell": {
     "cellMetadata": {
      "byteLimit": 2048000,
      "rowLimit": 10000
     },
     "inputWidgets": {},
     "nuid": "75296d66-0b7b-4941-87b7-e5002a3ed7c2",
     "showTitle": false,
     "tableResultSettingsMap": {},
     "title": ""
    }
   },
   "outputs": [],
   "source": [
    "#Problem 6\n",
    "num =int(input(\"Enter a number: \"))\n",
    "total = 0\n",
    "for i in range(1, num + 1):\n",
    "    total += i ** 2\n",
    "print(total)"
   ]
  },
  {
   "cell_type": "markdown",
   "metadata": {
    "application/vnd.databricks.v1+cell": {
     "cellMetadata": {},
     "inputWidgets": {},
     "nuid": "7ad34f4e-10b3-4c4b-96da-a015fdb7440c",
     "showTitle": false,
     "tableResultSettingsMap": {},
     "title": ""
    }
   },
   "source": []
  }
 ],
 "metadata": {
  "application/vnd.databricks.v1+notebook": {
   "computePreferences": null,
   "dashboards": [],
   "environmentMetadata": {
    "base_environment": "",
    "environment_version": "3"
   },
   "inputWidgetPreferences": null,
   "language": "python",
   "notebookMetadata": {
    "pythonIndentUnit": 4
   },
   "notebookName": "Assignment1",
   "widgets": {}
  },
  "language_info": {
   "name": "python"
  }
 },
 "nbformat": 4,
 "nbformat_minor": 0
}
